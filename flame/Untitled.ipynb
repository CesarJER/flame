{
 "cells": [
  {
   "cell_type": "code",
   "execution_count": 11,
   "metadata": {},
   "outputs": [
    {
     "name": "stdout",
     "output_type": "stream",
     "text": [
      "{'verbose_error': True, 'numCPUs': 2, 'input_type': 'molecule', 'normalize_method': 'standardize', 'ionize_method': None, 'convert3D_method': None, 'computeMD_method': ['RDKit_properties'], 'SDFile_activity': 'activity', 'SDFile_experimental': 'IC50', 'SDFile_name': 'GENERIC_NAME', 'modelingToolkit': 'internal', 'model': 'RF', 'modelAutoscaling': False, 'quantitative': True, 'tune': False, 'ModelValidationCV': 'loo', 'ModelValidationLC': False, 'ModelValidationN': 2, 'ModelValidationP': 1, 'SVM_parameters': {'C': 1.0, 'class_weight': 'balanced', 'coef0': 0.0, 'decision_function_shape': 'ovr', 'degree': 3, 'epsilon': 0.1, 'gamma': 'auto', 'kernel': 'rbf', 'probability': False, 'random_state': 46, 'shrinking': True, 'tol': 0.001}, 'SVM_optimize': {'C': [1, 10, 100], 'class_weight': [None, 'balanced'], 'coef0': [0.0, 0.8, 100.0], 'degree': [1, 3, 5], 'gamma': ['auto'], 'kernel': ['rbf'], 'random_state': [46]}, 'RF_parameters': {'class_weight': 'balanced', 'max_depth': None, 'max_features': 'sqrt', 'n_estimators': 200, 'n_jobs': -1, 'oob_score': True, 'random_state': 46}, 'RF_optimize': {'class_weight': [None, 'balanced'], 'max_features': ['sqrt', 'log2'], 'n_estimators': range(50, 200, 50), 'oob_score': [True], 'random_state': [46]}, 'conformal': False, 'conformalSignificance': 0.2}\n"
     ]
    }
   ],
   "source": [
    "import control\n",
    "\n",
    "c = control.Control ('CACO2',0)\n",
    "\n",
    "p = c.get_parameters()\n",
    "\n",
    "print (p)\n",
    "\n"
   ]
  },
  {
   "cell_type": "code",
   "execution_count": 8,
   "metadata": {},
   "outputs": [
    {
     "name": "stdout",
     "output_type": "stream",
     "text": [
      "{'a': 999, 'b': 2, 'c': 3}\n"
     ]
    }
   ],
   "source": [
    "d1 = {'a':1, 'b':2}\n",
    "d2 = {'c':3, 'a': 999}\n",
    "\n",
    "d3 = dict(d1, **d2)\n",
    "\n",
    "print (d3)"
   ]
  },
  {
   "cell_type": "code",
   "execution_count": null,
   "metadata": {},
   "outputs": [],
   "source": []
  },
  {
   "cell_type": "code",
   "execution_count": null,
   "metadata": {},
   "outputs": [],
   "source": []
  },
  {
   "cell_type": "code",
   "execution_count": null,
   "metadata": {},
   "outputs": [],
   "source": []
  },
  {
   "cell_type": "code",
   "execution_count": null,
   "metadata": {},
   "outputs": [],
   "source": []
  }
 ],
 "metadata": {
  "kernelspec": {
   "display_name": "Python 3",
   "language": "python",
   "name": "python3"
  },
  "language_info": {
   "codemirror_mode": {
    "name": "ipython",
    "version": 3
   },
   "file_extension": ".py",
   "mimetype": "text/x-python",
   "name": "python",
   "nbconvert_exporter": "python",
   "pygments_lexer": "ipython3",
   "version": "3.6.4"
  }
 },
 "nbformat": 4,
 "nbformat_minor": 2
}
