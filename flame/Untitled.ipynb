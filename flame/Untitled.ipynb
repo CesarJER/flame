{
 "cells": [
  {
   "cell_type": "code",
   "execution_count": 9,
   "metadata": {},
   "outputs": [],
   "source": [
    "import predict"
   ]
  },
  {
   "cell_type": "code",
   "execution_count": 10,
   "metadata": {},
   "outputs": [
    {
     "name": "stdout",
     "output_type": "stream",
     "text": [
      "recycling!\n",
      "odata :  {'origin': 'apply', 'projection': array([-5.963  , -4.6574 , -5.1112 , -5.02995, -4.80835, -4.7379 ,\n",
      "       -5.86085, -4.4367 , -5.4062 , -4.5346 ])}\n",
      "predicting OK!\n",
      "(True, 'ok')\n"
     ]
    }
   ],
   "source": [
    "p = predict.Predict ('/home/mpastor/workspace/minicaco.sdf', 'CACO2', '0')\n",
    "print (p.run())"
   ]
  },
  {
   "cell_type": "code",
   "execution_count": null,
   "metadata": {},
   "outputs": [],
   "source": []
  }
 ],
 "metadata": {
  "kernelspec": {
   "display_name": "Python 3",
   "language": "python",
   "name": "python3"
  },
  "language_info": {
   "codemirror_mode": {
    "name": "ipython",
    "version": 3
   },
   "file_extension": ".py",
   "mimetype": "text/x-python",
   "name": "python",
   "nbconvert_exporter": "python",
   "pygments_lexer": "ipython3",
   "version": "3.6.4"
  }
 },
 "nbformat": 4,
 "nbformat_minor": 2
}
